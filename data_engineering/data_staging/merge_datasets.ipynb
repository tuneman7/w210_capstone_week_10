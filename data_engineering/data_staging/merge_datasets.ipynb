{
 "cells": [
  {
   "cell_type": "markdown",
   "id": "0eed96e9",
   "metadata": {},
   "source": [
    "---\n",
    "MIDS Fall 2022  \n",
    "W210 Capstone\n",
    "\n",
    "---\n",
    "Team Members:   \n",
    "\n",
    "Ben Ohno\n",
    "Ben Mok\n",
    "Blake Bromes\n",
    "Don Irwin  \n",
    "Jonathan Moges\n",
    "\n",
    "---\n",
    "EDA\n",
    "Join data together\n",
    "Looking at the data sets we have so far."
   ]
  },
  {
   "cell_type": "code",
   "execution_count": null,
   "id": "c0fbd042",
   "metadata": {},
   "outputs": [],
   "source": [
    "#Install Notes\n",
    "#conda install --channel conda-forge pygraphviz\n",
    "#conda install --channel conda-forge ERAlchemy;\n",
    "#\n",
    "#Necessary to edit sqla.py\n",
    "#\n",
    "#https://github.com/Alexis-benoist/eralchemy/issues/80\n",
    "#"
   ]
  },
  {
   "cell_type": "code",
   "execution_count": 1,
   "id": "45c09d2a",
   "metadata": {
    "scrolled": false
   },
   "outputs": [],
   "source": [
    "import os\n",
    "import sys\n",
    "import json\n",
    "from datetime import datetime\n",
    "from os import system, name\n",
    "from time import sleep\n",
    "import copy\n",
    "import threading\n",
    "import imp\n",
    "import numpy as np\n",
    "import altair as alt\n",
    "import matplotlib.pyplot as plt\n",
    "import matplotlib.dates as mdates\n",
    "import pandas as pd\n",
    "import pandasql as psql\n",
    "from utility import Utility\n",
    "import warnings\n",
    "warnings.filterwarnings('ignore')\n",
    "\n",
    "my_utility = Utility()\n"
   ]
  },
  {
   "cell_type": "markdown",
   "id": "a16a6064",
   "metadata": {},
   "source": [
    "Let's see our csvs."
   ]
  },
  {
   "cell_type": "code",
   "execution_count": 2,
   "id": "9bd4cd11",
   "metadata": {
    "scrolled": false
   },
   "outputs": [
    {
     "name": "stdout",
     "output_type": "stream",
     "text": [
      "RDC_Inventory_Core_Metrics_County_History.csv\n"
     ]
    }
   ],
   "source": [
    "#load the CSVS into objects\n",
    "\n",
    "\n",
    "#unemployment data directory:\n",
    "folder_location = os.getcwd()\n",
    "ue_data_dir = os.path.abspath(os.path.join(folder_location, os.pardir ,\"datasets\",\"fed\",\"monthly_unemployment_by_county\"))\n",
    "#unemployment data objects\n",
    "ue_full_file_paths,ue_file_names,ue_loc_dict, ue_data_frames = my_utility.view_file_types(file_filter=\"*.csv\",\n",
    "                                            return_pandas_data_frames=True,\n",
    "                                            directory=ue_data_dir,\n",
    "                                            print_file_names_only=False)\n",
    "\n",
    "\n",
    "#RDC data (single file)\n",
    "core_data_directory = os.path.abspath(os.path.join(folder_location, os.pardir ,\"datasets\",\"realtor\"))\n",
    "#RDC data (single file)\n",
    "rdc_full_file_paths, rdc_file_names, rdc_loc_dict, rdc_data_frames = my_utility.view_file_types(file_filter=\"RDC_Inventory_Core_Metrics_County_History.csv\",\n",
    "                                             return_pandas_data_frames=True,\n",
    "                                             directory=core_data_directory,\n",
    "                                             print_file_names_only=True)\n",
    "\n",
    "\n",
    "\n",
    "#print(rdc_full_file_paths)\n",
    "\n"
   ]
  },
  {
   "cell_type": "markdown",
   "id": "e8c32919",
   "metadata": {},
   "source": [
    "try to normalize the county name and merge the unemployment files"
   ]
  },
  {
   "cell_type": "code",
   "execution_count": 3,
   "id": "1ea4c32a",
   "metadata": {
    "scrolled": false
   },
   "outputs": [],
   "source": [
    "\n",
    "merged_unemployment = None\n",
    "\n",
    "#for each of the counties change it to county_name, yearmonth, value\n",
    "my_counter = 0\n",
    "for key in ue_data_frames.keys():\n",
    "    df = ue_data_frames[key]\n",
    "    splitted_fn = key.split('_')\n",
    "    state = splitted_fn[len(splitted_fn)-2]\n",
    "    series_and_csv = splitted_fn[len(splitted_fn)-1]\n",
    "    county_name = key.replace(\"county\",\"\").replace(series_and_csv,\"\").replace(state,\"\").replace(\"unemployment_rate_in_\",\"\").replace(\"_\",\" \").replace(\"umployment rate in \",\"\").replace(\"unemployment rate  \",\"\").replace(\"unemploynt rate in \",\"\").strip()\n",
    "    #print(key)\n",
    "    county_name = county_name + \", \" + state\n",
    "    #print(county_name)\n",
    "    sql = '''\n",
    "    select \\'''' + county_name + '''\\' as county_name,\n",
    "    replace(substr(date,1,7),'-','') as yearmonth,\n",
    "    value\n",
    "    from df\n",
    "    '''\n",
    "    \n",
    "    #    merged_unemployment\n",
    "#    join rdc_data\n",
    "#    on rdc_data.month_date_yyyymm = replace(substr(date,1,7),'-','')\n",
    "    \n",
    "    #print(sql)\n",
    "    #break\n",
    "    my_result = psql.sqldf(sql)\n",
    "    #pd.set_option('display.max_rows', my_result.shape[0]+1)\n",
    "    #pd.set_option('display.max_rows', 20)\n",
    "    #print('my_result','\\n',my_result)\n",
    "    \n",
    "    #dump it into the data frame\n",
    "    #ue_data_frames[key] = df\n",
    "    \n",
    "    if my_counter == 0:\n",
    "        merged_unemployment = my_result\n",
    "    else:\n",
    "        merged_unemployment = merged_unemployment.append(my_result,ignore_index=True)\n",
    "        #print(county_name)\n",
    "    \n",
    "    my_counter = my_counter+1\n",
    "    \n",
    "    #break\n",
    "    \n",
    "\n"
   ]
  },
  {
   "cell_type": "code",
   "execution_count": 4,
   "id": "1a10544a",
   "metadata": {},
   "outputs": [
    {
     "name": "stdout",
     "output_type": "stream",
     "text": [
      "3051\n",
      "my_result \n",
      "    count(distinct county_name)\n",
      "0                         3050\n"
     ]
    }
   ],
   "source": [
    "#check what we have just done:\n",
    "\n",
    "print(len(ue_data_frames.keys()))\n",
    "sql = '''\n",
    "select count(distinct county_name) from merged_unemployment\n",
    "'''\n",
    "my_result = psql.sqldf(sql)\n",
    "pd.set_option('display.max_rows', my_result.shape[0]+1)\n",
    "pd.set_option('display.max_rows', 20)\n",
    "print('my_result','\\n',my_result)\n"
   ]
  },
  {
   "cell_type": "code",
   "execution_count": 14,
   "id": "a264cea9",
   "metadata": {},
   "outputs": [],
   "source": [
    "#now merge the stuff\n",
    "rdc_data = rdc_data_frames[\"RDC_Inventory_Core_Metrics_County_History.csv\"]\n",
    "\n",
    "sql = '''\n",
    "select\n",
    "    rdc_data.*,\n",
    "    merged_unemployment.value as unemployment_rate\n",
    "from rdc_data\n",
    "left join merged_unemployment\n",
    "on rdc_data.month_date_yyyymm = merged_unemployment.yearmonth\n",
    "and rdc_data.county_name = merged_unemployment.county_name\n",
    "'''\n",
    "merged_frame = psql.sqldf(sql)\n",
    "pd.set_option('display.max_rows', my_result.shape[0]+1)\n",
    "pd.set_option('display.max_rows', 20)\n",
    "#print('my_result','\\n',my_result)\n"
   ]
  },
  {
   "cell_type": "code",
   "execution_count": 24,
   "id": "58fa758f",
   "metadata": {},
   "outputs": [
    {
     "name": "stdout",
     "output_type": "stream",
     "text": [
      "my_result \n",
      "    total_records\n",
      "0         229215\n",
      "my_result \n",
      "    not_matched\n",
      "0        18517\n"
     ]
    }
   ],
   "source": [
    "#check out the join results.\n",
    "\n",
    "sql = '''\n",
    "select\n",
    "    count(*) as total_records from merged_frame \n",
    "'''\n",
    "my_result = psql.sqldf(sql)\n",
    "pd.set_option('display.max_rows', my_result.shape[0]+1)\n",
    "pd.set_option('display.max_rows', 20)\n",
    "print('my_result','\\n',my_result)\n",
    "\n",
    "sql = '''\n",
    "select\n",
    "    count(*) as not_matched from merged_frame where unemployment_rate is null\n",
    "'''\n",
    "my_result = psql.sqldf(sql)\n",
    "pd.set_option('display.max_rows', my_result.shape[0]+1)\n",
    "pd.set_option('display.max_rows', 20)\n",
    "print('my_result','\\n',my_result)\n"
   ]
  },
  {
   "cell_type": "code",
   "execution_count": null,
   "id": "4663111d",
   "metadata": {},
   "outputs": [],
   "source": [
    "#get the stuff not merged.\n",
    "sql = '''\n",
    "select\n",
    "    distinct * from merged_frame where unemployment_rate is null\n",
    "'''\n",
    "my_result = psql.sqldf(sql)\n",
    "#pd.set_option('display.max_rows', my_result.shape[0]+1)\n",
    "pd.set_option('display.max_rows', 20)\n",
    "print('my_result','\\n',my_result)\n",
    "\n",
    "not_joined = my_result"
   ]
  },
  {
   "cell_type": "code",
   "execution_count": 22,
   "id": "bd04c813",
   "metadata": {},
   "outputs": [],
   "source": [
    "#save off the file\n",
    "\n",
    "folder_location = os.getcwd()\n",
    "folder_location = os.path.abspath(os.path.join(folder_location, os.pardir ,\"datasets\",\"merged\"))\n",
    "\n",
    "if not os.path.exists(folder_location):\n",
    "    os.makedirs(folder_location)\n",
    "    \n",
    "file = os.path.join(folder_location,\"rdc_data_merged_with_unemployment.csv\")\n",
    "    \n",
    "merged_frame.to_csv(file,index=False) \n",
    "\n",
    "\n",
    "    \n",
    "file = os.path.join(folder_location,\"rdc_data_not_matched.csv\")\n",
    "    \n",
    "not_joined.to_csv(file,index=False) \n",
    "\n"
   ]
  }
 ],
 "metadata": {
  "kernelspec": {
   "display_name": "Python 3 (ipykernel)",
   "language": "python",
   "name": "python3"
  },
  "language_info": {
   "codemirror_mode": {
    "name": "ipython",
    "version": 3
   },
   "file_extension": ".py",
   "mimetype": "text/x-python",
   "name": "python",
   "nbconvert_exporter": "python",
   "pygments_lexer": "ipython3",
   "version": "3.9.10"
  }
 },
 "nbformat": 4,
 "nbformat_minor": 5
}
