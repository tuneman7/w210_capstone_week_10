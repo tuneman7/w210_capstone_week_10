{
 "cells": [
  {
   "cell_type": "code",
   "execution_count": 1,
   "metadata": {},
   "outputs": [
    {
     "name": "stderr",
     "output_type": "stream",
     "text": [
      "Importing plotly failed. Interactive plots will not work.\n"
     ]
    }
   ],
   "source": [
    "import pandas as pd\n",
    "from prophet import Prophet"
   ]
  },
  {
   "cell_type": "markdown",
   "metadata": {},
   "source": [
    "This visual is optional, but I think it would be nice to have. A heatmap of the whole US or a specific state based on median_listing_price. Ideally I'd want to use the model forecasts for the heatmap, but I don't have results for every county yet derp (working on it I promise). \n",
    "\n",
    " Use any package or visualizaiton tool that you are most comfortable in (python aitaire, plotly, bokeh, tableau, power BI, etc.). I think Tableau may be a good place to start with this one. \n",
    "\n",
    "\n",
    "Ex. https://plotly.com/python/county-choropleth/"
   ]
  },
  {
   "cell_type": "code",
   "execution_count": 2,
   "metadata": {},
   "outputs": [],
   "source": [
    "all_data = pd.read_csv('../model_building/cleaned_data.csv')"
   ]
  },
  {
   "cell_type": "code",
   "execution_count": 4,
   "metadata": {},
   "outputs": [],
   "source": [
    "filtered_data = all_data.loc[all_data.date == '2022-09-01']"
   ]
  },
  {
   "cell_type": "code",
   "execution_count": 6,
   "metadata": {},
   "outputs": [
    {
     "data": {
      "text/html": [
       "<div>\n",
       "<style scoped>\n",
       "    .dataframe tbody tr th:only-of-type {\n",
       "        vertical-align: middle;\n",
       "    }\n",
       "\n",
       "    .dataframe tbody tr th {\n",
       "        vertical-align: top;\n",
       "    }\n",
       "\n",
       "    .dataframe thead th {\n",
       "        text-align: right;\n",
       "    }\n",
       "</style>\n",
       "<table border=\"1\" class=\"dataframe\">\n",
       "  <thead>\n",
       "    <tr style=\"text-align: right;\">\n",
       "      <th></th>\n",
       "      <th>date</th>\n",
       "      <th>county_fips</th>\n",
       "      <th>county_name</th>\n",
       "      <th>median_listing_price</th>\n",
       "    </tr>\n",
       "  </thead>\n",
       "  <tbody>\n",
       "    <tr>\n",
       "      <th>0</th>\n",
       "      <td>2022-09-01</td>\n",
       "      <td>26143</td>\n",
       "      <td>roscommon, mi</td>\n",
       "      <td>219900.0</td>\n",
       "    </tr>\n",
       "    <tr>\n",
       "      <th>1</th>\n",
       "      <td>2022-09-01</td>\n",
       "      <td>39077</td>\n",
       "      <td>huron, oh</td>\n",
       "      <td>138300.0</td>\n",
       "    </tr>\n",
       "    <tr>\n",
       "      <th>2</th>\n",
       "      <td>2022-09-01</td>\n",
       "      <td>5065</td>\n",
       "      <td>izard, ar</td>\n",
       "      <td>199900.0</td>\n",
       "    </tr>\n",
       "    <tr>\n",
       "      <th>3</th>\n",
       "      <td>2022-09-01</td>\n",
       "      <td>18017</td>\n",
       "      <td>cass, in</td>\n",
       "      <td>151175.0</td>\n",
       "    </tr>\n",
       "    <tr>\n",
       "      <th>4</th>\n",
       "      <td>2022-09-01</td>\n",
       "      <td>54063</td>\n",
       "      <td>monroe, wv</td>\n",
       "      <td>222450.0</td>\n",
       "    </tr>\n",
       "    <tr>\n",
       "      <th>...</th>\n",
       "      <td>...</td>\n",
       "      <td>...</td>\n",
       "      <td>...</td>\n",
       "      <td>...</td>\n",
       "    </tr>\n",
       "    <tr>\n",
       "      <th>3110</th>\n",
       "      <td>2022-09-01</td>\n",
       "      <td>27087</td>\n",
       "      <td>mahnomen, mn</td>\n",
       "      <td>194500.0</td>\n",
       "    </tr>\n",
       "    <tr>\n",
       "      <th>3111</th>\n",
       "      <td>2022-09-01</td>\n",
       "      <td>54107</td>\n",
       "      <td>wood, wv</td>\n",
       "      <td>190000.0</td>\n",
       "    </tr>\n",
       "    <tr>\n",
       "      <th>3112</th>\n",
       "      <td>2022-09-01</td>\n",
       "      <td>51027</td>\n",
       "      <td>buchanan, va</td>\n",
       "      <td>105725.0</td>\n",
       "    </tr>\n",
       "    <tr>\n",
       "      <th>3113</th>\n",
       "      <td>2022-09-01</td>\n",
       "      <td>36089</td>\n",
       "      <td>st. lawrence, ny</td>\n",
       "      <td>152000.0</td>\n",
       "    </tr>\n",
       "    <tr>\n",
       "      <th>3114</th>\n",
       "      <td>2022-09-01</td>\n",
       "      <td>37113</td>\n",
       "      <td>macon, nc</td>\n",
       "      <td>592175.0</td>\n",
       "    </tr>\n",
       "  </tbody>\n",
       "</table>\n",
       "<p>3115 rows × 4 columns</p>\n",
       "</div>"
      ],
      "text/plain": [
       "            date  county_fips       county_name  median_listing_price\n",
       "0     2022-09-01        26143     roscommon, mi              219900.0\n",
       "1     2022-09-01        39077         huron, oh              138300.0\n",
       "2     2022-09-01         5065         izard, ar              199900.0\n",
       "3     2022-09-01        18017          cass, in              151175.0\n",
       "4     2022-09-01        54063        monroe, wv              222450.0\n",
       "...          ...          ...               ...                   ...\n",
       "3110  2022-09-01        27087      mahnomen, mn              194500.0\n",
       "3111  2022-09-01        54107          wood, wv              190000.0\n",
       "3112  2022-09-01        51027      buchanan, va              105725.0\n",
       "3113  2022-09-01        36089  st. lawrence, ny              152000.0\n",
       "3114  2022-09-01        37113         macon, nc              592175.0\n",
       "\n",
       "[3115 rows x 4 columns]"
      ]
     },
     "execution_count": 6,
     "metadata": {},
     "output_type": "execute_result"
    }
   ],
   "source": [
    "filtered_data[['date', 'county_fips', 'county_name', 'median_listing_price']]"
   ]
  },
  {
   "cell_type": "code",
   "execution_count": null,
   "metadata": {},
   "outputs": [],
   "source": []
  }
 ],
 "metadata": {
  "kernelspec": {
   "display_name": "Python 3.9.10 ('py3.9': venv)",
   "language": "python",
   "name": "python3"
  },
  "language_info": {
   "codemirror_mode": {
    "name": "ipython",
    "version": 3
   },
   "file_extension": ".py",
   "mimetype": "text/x-python",
   "name": "python",
   "nbconvert_exporter": "python",
   "pygments_lexer": "ipython3",
   "version": "3.9.10"
  },
  "orig_nbformat": 4,
  "vscode": {
   "interpreter": {
    "hash": "04b6e436ba65bd117af3bad0bf4d91cb892d09a5bb2258de7e9126052b1cfc34"
   }
  }
 },
 "nbformat": 4,
 "nbformat_minor": 2
}
