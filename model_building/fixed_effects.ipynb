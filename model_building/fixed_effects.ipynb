{
 "cells": [
  {
   "cell_type": "code",
   "execution_count": 2,
   "metadata": {},
   "outputs": [],
   "source": [
    "import pandas as pd\n",
    "import scipy.stats as st\n",
    "import statsmodels.api as sm\n",
    "import statsmodels.graphics.tsaplots as tsap\n",
    "from statsmodels.compat import lzip\n",
    "from statsmodels.stats.diagnostic import het_white\n",
    "import statsmodels.formula.api as smf\n",
    "from matplotlib import pyplot as plt\n",
    "import seaborn as sns\n",
    "\n",
    "from linearmodels import PanelOLS\n",
    "from linearmodels import RandomEffects"
   ]
  },
  {
   "cell_type": "markdown",
   "metadata": {},
   "source": [
    "### ** Trying to run in AWS Sagemaker because ran out of memory in local machine **"
   ]
  },
  {
   "cell_type": "code",
   "execution_count": 3,
   "metadata": {},
   "outputs": [
    {
     "name": "stderr",
     "output_type": "stream",
     "text": [
      "/Users/PamOhno/opt/anaconda3/lib/python3.8/site-packages/IPython/core/interactiveshell.py:3146: DtypeWarning: Columns (37,38) have mixed types.Specify dtype option on import or set low_memory=False.\n",
      "  has_raised = await self.run_ast_nodes(code_ast.body, cell_name,\n"
     ]
    }
   ],
   "source": [
    "data = pd.read_csv('cleaned_data.csv')"
   ]
  },
  {
   "cell_type": "code",
   "execution_count": 3,
   "metadata": {},
   "outputs": [
    {
     "data": {
      "text/html": [
       "<div>\n",
       "<style scoped>\n",
       "    .dataframe tbody tr th:only-of-type {\n",
       "        vertical-align: middle;\n",
       "    }\n",
       "\n",
       "    .dataframe tbody tr th {\n",
       "        vertical-align: top;\n",
       "    }\n",
       "\n",
       "    .dataframe thead th {\n",
       "        text-align: right;\n",
       "    }\n",
       "</style>\n",
       "<table border=\"1\" class=\"dataframe\">\n",
       "  <thead>\n",
       "    <tr style=\"text-align: right;\">\n",
       "      <th></th>\n",
       "      <th>month_date_yyyymm</th>\n",
       "      <th>county_fips</th>\n",
       "      <th>county_name</th>\n",
       "      <th>median_listing_price</th>\n",
       "      <th>median_listing_price_mm</th>\n",
       "      <th>median_listing_price_yy</th>\n",
       "      <th>active_listing_count</th>\n",
       "      <th>active_listing_count_mm</th>\n",
       "      <th>active_listing_count_yy</th>\n",
       "      <th>median_days_on_market</th>\n",
       "      <th>...</th>\n",
       "      <th>average_listing_price_yy</th>\n",
       "      <th>total_listing_count</th>\n",
       "      <th>total_listing_count_mm</th>\n",
       "      <th>total_listing_count_yy</th>\n",
       "      <th>pending_ratio</th>\n",
       "      <th>pending_ratio_mm</th>\n",
       "      <th>pending_ratio_yy</th>\n",
       "      <th>quality_flag</th>\n",
       "      <th>unemployment_rate</th>\n",
       "      <th>date</th>\n",
       "    </tr>\n",
       "  </thead>\n",
       "  <tbody>\n",
       "    <tr>\n",
       "      <th>0</th>\n",
       "      <td>202208</td>\n",
       "      <td>45001</td>\n",
       "      <td>abbeville, sc</td>\n",
       "      <td>199000.0</td>\n",
       "      <td>-0.1152</td>\n",
       "      <td>-0.3671</td>\n",
       "      <td>32.0</td>\n",
       "      <td>0.0323</td>\n",
       "      <td>-0.0857</td>\n",
       "      <td>67.0</td>\n",
       "      <td>...</td>\n",
       "      <td>-0.3672</td>\n",
       "      <td>48.0</td>\n",
       "      <td>-0.0204</td>\n",
       "      <td>-0.2836</td>\n",
       "      <td>0.4375</td>\n",
       "      <td>-0.1431</td>\n",
       "      <td>-0.4768</td>\n",
       "      <td>1.0</td>\n",
       "      <td>4.519178</td>\n",
       "      <td>2022-08-01</td>\n",
       "    </tr>\n",
       "  </tbody>\n",
       "</table>\n",
       "<p>1 rows × 42 columns</p>\n",
       "</div>"
      ],
      "text/plain": [
       "   month_date_yyyymm  county_fips    county_name  median_listing_price  \\\n",
       "0             202208        45001  abbeville, sc              199000.0   \n",
       "\n",
       "   median_listing_price_mm  median_listing_price_yy  active_listing_count  \\\n",
       "0                  -0.1152                  -0.3671                  32.0   \n",
       "\n",
       "   active_listing_count_mm  active_listing_count_yy  median_days_on_market  \\\n",
       "0                   0.0323                  -0.0857                   67.0   \n",
       "\n",
       "   ...  average_listing_price_yy  total_listing_count  total_listing_count_mm  \\\n",
       "0  ...                   -0.3672                 48.0                 -0.0204   \n",
       "\n",
       "   total_listing_count_yy  pending_ratio  pending_ratio_mm  pending_ratio_yy  \\\n",
       "0                 -0.2836         0.4375           -0.1431           -0.4768   \n",
       "\n",
       "   quality_flag  unemployment_rate        date  \n",
       "0           1.0           4.519178  2022-08-01  \n",
       "\n",
       "[1 rows x 42 columns]"
      ]
     },
     "execution_count": 3,
     "metadata": {},
     "output_type": "execute_result"
    }
   ],
   "source": [
    "data.head(1)"
   ]
  },
  {
   "cell_type": "code",
   "execution_count": 4,
   "metadata": {},
   "outputs": [],
   "source": [
    "FE_ols = smf.ols(formula='median_listing_price ~ 1 + active_listing_count + C(county_name)', data = data).fit()\n",
    "print(FE_ols.summary())\n",
    "\n"
   ]
  }
 ],
 "metadata": {
  "kernelspec": {
   "display_name": "Python 3.8.5 ('base')",
   "language": "python",
   "name": "python3"
  },
  "language_info": {
   "codemirror_mode": {
    "name": "ipython",
    "version": 3
   },
   "file_extension": ".py",
   "mimetype": "text/x-python",
   "name": "python",
   "nbconvert_exporter": "python",
   "pygments_lexer": "ipython3",
   "version": "3.8.5"
  },
  "orig_nbformat": 4,
  "vscode": {
   "interpreter": {
    "hash": "a6bd7870a061c14a76be9d5418d0fe703e52fc6eacd81ecd83e9a37328a9839d"
   }
  }
 },
 "nbformat": 4,
 "nbformat_minor": 2
}
