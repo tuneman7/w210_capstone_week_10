{
 "cells": [
  {
   "cell_type": "code",
   "execution_count": 3,
   "metadata": {},
   "outputs": [],
   "source": [
    "import pandas as pd\n",
    "import scipy.stats as st\n",
    "import statsmodels.api as sm\n",
    "import statsmodels.graphics.tsaplots as tsap\n",
    "from statsmodels.compat import lzip\n",
    "from statsmodels.stats.diagnostic import het_white\n",
    "from matplotlib import pyplot as plt\n",
    "import seaborn as sns"
   ]
  },
  {
   "cell_type": "code",
   "execution_count": 4,
   "metadata": {},
   "outputs": [
    {
     "name": "stderr",
     "output_type": "stream",
     "text": [
      "/Users/PamOhno/opt/anaconda3/lib/python3.8/site-packages/IPython/core/interactiveshell.py:3146: DtypeWarning: Columns (37,38) have mixed types.Specify dtype option on import or set low_memory=False.\n",
      "  has_raised = await self.run_ast_nodes(code_ast.body, cell_name,\n"
     ]
    }
   ],
   "source": [
    "data = pd.read_csv('cleaned_data.csv')"
   ]
  },
  {
   "cell_type": "code",
   "execution_count": 7,
   "metadata": {},
   "outputs": [
    {
     "data": {
      "text/plain": [
       "Index(['month_date_yyyymm', 'county_fips', 'county_name',\n",
       "       'median_listing_price', 'median_listing_price_mm',\n",
       "       'median_listing_price_yy', 'active_listing_count',\n",
       "       'active_listing_count_mm', 'active_listing_count_yy',\n",
       "       'median_days_on_market', 'median_days_on_market_mm',\n",
       "       'median_days_on_market_yy', 'new_listing_count', 'new_listing_count_mm',\n",
       "       'new_listing_count_yy', 'price_increased_count',\n",
       "       'price_increased_count_mm', 'price_increased_count_yy',\n",
       "       'price_reduced_count', 'price_reduced_count_mm',\n",
       "       'price_reduced_count_yy', 'pending_listing_count',\n",
       "       'pending_listing_count_mm', 'pending_listing_count_yy',\n",
       "       'median_listing_price_per_square_foot',\n",
       "       'median_listing_price_per_square_foot_mm',\n",
       "       'median_listing_price_per_square_foot_yy', 'median_square_feet',\n",
       "       'median_square_feet_mm', 'median_square_feet_yy',\n",
       "       'average_listing_price', 'average_listing_price_mm',\n",
       "       'average_listing_price_yy', 'total_listing_count',\n",
       "       'total_listing_count_mm', 'total_listing_count_yy', 'pending_ratio',\n",
       "       'pending_ratio_mm', 'pending_ratio_yy', 'quality_flag',\n",
       "       'unemployment_rate', 'date'],\n",
       "      dtype='object')"
      ]
     },
     "execution_count": 7,
     "metadata": {},
     "output_type": "execute_result"
    }
   ],
   "source": [
    "data.columns"
   ]
  },
  {
   "cell_type": "code",
   "execution_count": 25,
   "metadata": {},
   "outputs": [
    {
     "data": {
      "text/plain": [
       "month_date_yyyymm                               0\n",
       "county_fips                                     0\n",
       "county_name                                     0\n",
       "median_listing_price                            0\n",
       "median_listing_price_mm                     37355\n",
       "median_listing_price_yy                     38246\n",
       "active_listing_count                            0\n",
       "active_listing_count_mm                     37457\n",
       "active_listing_count_yy                     38409\n",
       "median_days_on_market                           0\n",
       "median_days_on_market_mm                    37336\n",
       "median_days_on_market_yy                    38231\n",
       "new_listing_count                               0\n",
       "new_listing_count_mm                        64614\n",
       "new_listing_count_yy                        65444\n",
       "price_increased_count                           0\n",
       "price_increased_count_mm                   175687\n",
       "price_increased_count_yy                   174708\n",
       "price_reduced_count                             0\n",
       "price_reduced_count_mm                      79843\n",
       "price_reduced_count_yy                      77674\n",
       "pending_listing_count                        1015\n",
       "pending_listing_count_mm                    57009\n",
       "pending_listing_count_yy                    65282\n",
       "median_listing_price_per_square_foot            0\n",
       "median_listing_price_per_square_foot_mm     37688\n",
       "median_listing_price_per_square_foot_yy     38776\n",
       "median_square_feet                              0\n",
       "median_square_feet_mm                       37688\n",
       "median_square_feet_yy                       38776\n",
       "average_listing_price                           0\n",
       "average_listing_price_mm                    37355\n",
       "average_listing_price_yy                    38246\n",
       "total_listing_count                             0\n",
       "total_listing_count_mm                      37312\n",
       "total_listing_count_yy                      38242\n",
       "pending_ratio                               22013\n",
       "pending_ratio_mm                            55588\n",
       "pending_ratio_yy                            62748\n",
       "quality_flag                                36962\n",
       "unemployment_rate                           15621\n",
       "date                                            0\n",
       "dtype: int64"
      ]
     },
     "execution_count": 25,
     "metadata": {},
     "output_type": "execute_result"
    }
   ],
   "source": [
    "\t\n",
    "data.isna().sum()"
   ]
  },
  {
   "cell_type": "code",
   "execution_count": 35,
   "metadata": {},
   "outputs": [],
   "source": [
    "pooled_y=data['median_listing_price']\n",
    "pooled_X = data[['active_listing_count', 'median_days_on_market', 'new_listing_count']]"
   ]
  },
  {
   "cell_type": "code",
   "execution_count": 36,
   "metadata": {},
   "outputs": [],
   "source": [
    "pooled_X = sm.add_constant(pooled_X)"
   ]
  },
  {
   "cell_type": "code",
   "execution_count": 37,
   "metadata": {},
   "outputs": [],
   "source": [
    "pooled_olsr_model = sm.OLS(endog=pooled_y, exog=pooled_X)"
   ]
  },
  {
   "cell_type": "code",
   "execution_count": 38,
   "metadata": {},
   "outputs": [],
   "source": [
    "pooled_olsr_model_results = pooled_olsr_model.fit()"
   ]
  },
  {
   "cell_type": "code",
   "execution_count": 39,
   "metadata": {},
   "outputs": [
    {
     "name": "stdout",
     "output_type": "stream",
     "text": [
      "                             OLS Regression Results                             \n",
      "================================================================================\n",
      "Dep. Variable:     median_listing_price   R-squared:                       0.040\n",
      "Model:                              OLS   Adj. R-squared:                  0.040\n",
      "Method:                   Least Squares   F-statistic:                     3166.\n",
      "Date:                  Tue, 20 Sep 2022   Prob (F-statistic):               0.00\n",
      "Time:                          08:57:36   Log-Likelihood:            -3.1500e+06\n",
      "No. Observations:                229214   AIC:                         6.300e+06\n",
      "Df Residuals:                    229210   BIC:                         6.300e+06\n",
      "Df Model:                             3                                         \n",
      "Covariance Type:              nonrobust                                         \n",
      "=========================================================================================\n",
      "                            coef    std err          t      P>|t|      [0.025      0.975]\n",
      "-----------------------------------------------------------------------------------------\n",
      "const                  2.405e+05    896.851    268.127      0.000    2.39e+05    2.42e+05\n",
      "active_listing_count     -2.5887      1.048     -2.471      0.013      -4.642      -0.536\n",
      "median_days_on_market  -167.7933      8.095    -20.727      0.000    -183.660    -151.926\n",
      "new_listing_count       103.6417      2.273     45.597      0.000      99.187     108.097\n",
      "==============================================================================\n",
      "Omnibus:                   585651.212   Durbin-Watson:                   0.329\n",
      "Prob(Omnibus):                  0.000   Jarque-Bera (JB):      31484483560.942\n",
      "Skew:                          28.488   Prob(JB):                         0.00\n",
      "Kurtosis:                    1817.761   Cond. No.                     2.05e+03\n",
      "==============================================================================\n",
      "\n",
      "Notes:\n",
      "[1] Standard Errors assume that the covariance matrix of the errors is correctly specified.\n",
      "[2] The condition number is large, 2.05e+03. This might indicate that there are\n",
      "strong multicollinearity or other numerical problems.\n"
     ]
    }
   ],
   "source": [
    "print(pooled_olsr_model_results.summary())"
   ]
  },
  {
   "cell_type": "code",
   "execution_count": null,
   "metadata": {},
   "outputs": [],
   "source": []
  }
 ],
 "metadata": {
  "kernelspec": {
   "display_name": "Python 3 (ipykernel)",
   "language": "python",
   "name": "python3"
  },
  "language_info": {
   "codemirror_mode": {
    "name": "ipython",
    "version": 3
   },
   "file_extension": ".py",
   "mimetype": "text/x-python",
   "name": "python",
   "nbconvert_exporter": "python",
   "pygments_lexer": "ipython3",
   "version": "3.9.10"
  },
  "vscode": {
   "interpreter": {
    "hash": "a6bd7870a061c14a76be9d5418d0fe703e52fc6eacd81ecd83e9a37328a9839d"
   }
  }
 },
 "nbformat": 4,
 "nbformat_minor": 2
}
